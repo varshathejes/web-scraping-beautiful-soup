{
  "cells": [
    {
      "cell_type": "markdown",
      "metadata": {
        "id": "view-in-github",
        "colab_type": "text"
      },
      "source": [
        "<a href=\"https://colab.research.google.com/github/varshathejes/web-scraping-beautiful-soup/blob/main/web_scraping.ipynb\" target=\"_parent\"><img src=\"https://colab.research.google.com/assets/colab-badge.svg\" alt=\"Open In Colab\"/></a>"
      ]
    },
    {
      "cell_type": "markdown",
      "source": [
        " # Web Scraping using BeautifulSoup"
      ],
      "metadata": {
        "id": "GYAC9pVwd4ph"
      }
    },
    {
      "cell_type": "code",
      "execution_count": null,
      "metadata": {
        "id": "ujvyp-Zsdr0E"
      },
      "outputs": [],
      "source": [
        "import requests\n",
        "import pandas as pd\n",
        "from bs4 import BeautifulSoup\n",
        "\n",
        "headers = {'User-Agent': 'Mozilla/5.0 (Windows NT 10.0; Win64; x64) AppleWebKit/537.36 (KHTML, like Gecko) Chrome/62.0.3202.94 Safari/537.36'}\n",
        "\n",
        "data = []\n",
        "for i in range(1, 11):  # loop through pages 1 to 10\n",
        "    url = f'https://www.imdb.com/search/title/?count=100&groups=top_1000&sort=user_rating&start={i*100}'\n",
        "    page = requests.get(url, headers=headers)\n",
        "    soup = BeautifulSoup(page.text, 'html.parser')\n",
        "\n",
        "    for item in soup.select('.lister-item'):\n",
        "        # extract the director and stars using list comprehension\n",
        "        d = item.select('a[href*=\"_dr_\"]')\n",
        "        s = item.select('a[href*=\"_st_\"]')\n",
        "\n",
        "        votes_gross = item.find_all(\"span\", attrs={\"name\": [\"nv\", \"nv\"]})\n",
        "        \n",
        "        data.append({\n",
        "            'title': item.h3.a.text,\n",
        "            'url': 'https://www.imdb.com' + item.a['href'],\n",
        "            'director': [x.text for x in d] if d else None,\n",
        "            'stars': [x.text for x in s] if s else None,\n",
        "            'certificate': item.select_one('.certificate') and item.select_one('.certificate').text or None,\n",
        "            'runtime': item.select_one('.runtime') and item.select_one('.runtime').text or None,\n",
        "            'genre': item.select_one('.genre') and item.select_one('.genre').text.strip() or None,\n",
        "            'imdb_rating': item.select_one('.ratings-imdb-rating') and item.select_one('.ratings-imdb-rating').strong.text or None,\n",
        "            'metascore': item.select_one('.metascore') and item.select_one('.metascore').text.strip() or None,\n",
        "            'Year': item.select_one('.text-muted') and item.select_one('.text-muted').text.strip() or None,\n",
        "            'votes': votes_gross[0].text.replace(\",\", \"\") if votes_gross else \"\",\n",
        "            'gross' : votes_gross[1].text if len(votes_gross) > 1 else \"\"\n",
        "        })\n",
        "\n"
      ]
    },
    {
      "cell_type": "code",
      "execution_count": null,
      "metadata": {
        "id": "UdyGaLp8dr0I",
        "outputId": "def72395-1caa-4b49-9651-ffd908082220"
      },
      "outputs": [
        {
          "data": {
            "text/html": [
              "<div>\n",
              "<style scoped>\n",
              "    .dataframe tbody tr th:only-of-type {\n",
              "        vertical-align: middle;\n",
              "    }\n",
              "\n",
              "    .dataframe tbody tr th {\n",
              "        vertical-align: top;\n",
              "    }\n",
              "\n",
              "    .dataframe thead th {\n",
              "        text-align: right;\n",
              "    }\n",
              "</style>\n",
              "<table border=\"1\" class=\"dataframe\">\n",
              "  <thead>\n",
              "    <tr style=\"text-align: right;\">\n",
              "      <th></th>\n",
              "      <th>title</th>\n",
              "      <th>url</th>\n",
              "      <th>director</th>\n",
              "      <th>stars</th>\n",
              "      <th>certificate</th>\n",
              "      <th>runtime</th>\n",
              "      <th>genre</th>\n",
              "      <th>imdb_rating</th>\n",
              "      <th>metascore</th>\n",
              "      <th>Year</th>\n",
              "      <th>votes</th>\n",
              "      <th>gross</th>\n",
              "    </tr>\n",
              "  </thead>\n",
              "  <tbody>\n",
              "    <tr>\n",
              "      <th>896</th>\n",
              "      <td>Les yeux sans visage</td>\n",
              "      <td>https://www.imdb.com/title/tt0053459/?ref_=adv...</td>\n",
              "      <td>[Georges Franju]</td>\n",
              "      <td>[Pierre Brasseur, Alida Valli, Juliette Maynie...</td>\n",
              "      <td>Not Rated</td>\n",
              "      <td>90 min</td>\n",
              "      <td>Drama, Horror</td>\n",
              "      <td>7.6</td>\n",
              "      <td>90</td>\n",
              "      <td>(1960)</td>\n",
              "      <td>32785</td>\n",
              "      <td>$0.05M</td>\n",
              "    </tr>\n",
              "    <tr>\n",
              "      <th>897</th>\n",
              "      <td>The Odd Couple</td>\n",
              "      <td>https://www.imdb.com/title/tt0063374/?ref_=adv...</td>\n",
              "      <td>[Gene Saks]</td>\n",
              "      <td>[Jack Lemmon, Walter Matthau, John Fiedler, He...</td>\n",
              "      <td>None</td>\n",
              "      <td>105 min</td>\n",
              "      <td>Comedy</td>\n",
              "      <td>7.6</td>\n",
              "      <td>86</td>\n",
              "      <td>(1968)</td>\n",
              "      <td>35825</td>\n",
              "      <td>$44.53M</td>\n",
              "    </tr>\n",
              "    <tr>\n",
              "      <th>898</th>\n",
              "      <td>Shine</td>\n",
              "      <td>https://www.imdb.com/title/tt0117631/?ref_=adv...</td>\n",
              "      <td>[Scott Hicks]</td>\n",
              "      <td>[Geoffrey Rush, Armin Mueller-Stahl, Justin Br...</td>\n",
              "      <td>Not Rated</td>\n",
              "      <td>105 min</td>\n",
              "      <td>Biography, Drama, Music</td>\n",
              "      <td>7.6</td>\n",
              "      <td>87</td>\n",
              "      <td>(1996)</td>\n",
              "      <td>54965</td>\n",
              "      <td>$35.81M</td>\n",
              "    </tr>\n",
              "    <tr>\n",
              "      <th>899</th>\n",
              "      <td>The Invisible Man</td>\n",
              "      <td>https://www.imdb.com/title/tt0024184/?ref_=adv...</td>\n",
              "      <td>[James Whale]</td>\n",
              "      <td>[Claude Rains, Gloria Stuart, William Harrigan...</td>\n",
              "      <td>None</td>\n",
              "      <td>71 min</td>\n",
              "      <td>Horror, Sci-Fi</td>\n",
              "      <td>7.6</td>\n",
              "      <td>87</td>\n",
              "      <td>(1933)</td>\n",
              "      <td>36955</td>\n",
              "      <td></td>\n",
              "    </tr>\n",
              "    <tr>\n",
              "      <th>900</th>\n",
              "      <td>Celda 211</td>\n",
              "      <td>https://www.imdb.com/title/tt1242422/?ref_=adv...</td>\n",
              "      <td>[Daniel Monzón]</td>\n",
              "      <td>[Luis Tosar, Alberto Ammann, Antonio Resines, ...</td>\n",
              "      <td>A</td>\n",
              "      <td>113 min</td>\n",
              "      <td>Action, Adventure, Crime</td>\n",
              "      <td>7.6</td>\n",
              "      <td>None</td>\n",
              "      <td>(2009)</td>\n",
              "      <td>68692</td>\n",
              "      <td></td>\n",
              "    </tr>\n",
              "  </tbody>\n",
              "</table>\n",
              "</div>"
            ],
            "text/plain": [
              "                    title                                                url  \\\n",
              "896  Les yeux sans visage  https://www.imdb.com/title/tt0053459/?ref_=adv...   \n",
              "897        The Odd Couple  https://www.imdb.com/title/tt0063374/?ref_=adv...   \n",
              "898                 Shine  https://www.imdb.com/title/tt0117631/?ref_=adv...   \n",
              "899     The Invisible Man  https://www.imdb.com/title/tt0024184/?ref_=adv...   \n",
              "900             Celda 211  https://www.imdb.com/title/tt1242422/?ref_=adv...   \n",
              "\n",
              "             director                                              stars  \\\n",
              "896  [Georges Franju]  [Pierre Brasseur, Alida Valli, Juliette Maynie...   \n",
              "897       [Gene Saks]  [Jack Lemmon, Walter Matthau, John Fiedler, He...   \n",
              "898     [Scott Hicks]  [Geoffrey Rush, Armin Mueller-Stahl, Justin Br...   \n",
              "899     [James Whale]  [Claude Rains, Gloria Stuart, William Harrigan...   \n",
              "900   [Daniel Monzón]  [Luis Tosar, Alberto Ammann, Antonio Resines, ...   \n",
              "\n",
              "    certificate  runtime                     genre imdb_rating metascore  \\\n",
              "896   Not Rated   90 min             Drama, Horror         7.6        90   \n",
              "897        None  105 min                    Comedy         7.6        86   \n",
              "898   Not Rated  105 min   Biography, Drama, Music         7.6        87   \n",
              "899        None   71 min            Horror, Sci-Fi         7.6        87   \n",
              "900           A  113 min  Action, Adventure, Crime         7.6      None   \n",
              "\n",
              "       Year  votes    gross  \n",
              "896  (1960)  32785   $0.05M  \n",
              "897  (1968)  35825  $44.53M  \n",
              "898  (1996)  54965  $35.81M  \n",
              "899  (1933)  36955           \n",
              "900  (2009)  68692           "
            ]
          },
          "execution_count": 2,
          "metadata": {},
          "output_type": "execute_result"
        }
      ],
      "source": [
        "df = pd.DataFrame(data)\n",
        "df.tail()"
      ]
    },
    {
      "cell_type": "code",
      "execution_count": null,
      "metadata": {
        "id": "QzBdFrVidr0L",
        "outputId": "9964b347-0814-493f-eab5-83061cfd30bc"
      },
      "outputs": [
        {
          "data": {
            "text/plain": [
              "(901, 12)"
            ]
          },
          "execution_count": 3,
          "metadata": {},
          "output_type": "execute_result"
        }
      ],
      "source": [
        "df.shape"
      ]
    },
    {
      "cell_type": "code",
      "execution_count": null,
      "metadata": {
        "id": "i2rWGIT1dr0M",
        "outputId": "9eb7e43c-2b0f-4616-ad90-6407df52bdb2"
      },
      "outputs": [
        {
          "data": {
            "text/plain": [
              "array(['UA', 'A', '15+', 'U', '7', '18', 'G', None, 'R', 'PG', 'M/PG',\n",
              "       '16', 'Not Rated', 'Unrated', 'PG-13', 'UA 16+', '(Banned)', 'U/A',\n",
              "       '13'], dtype=object)"
            ]
          },
          "execution_count": 4,
          "metadata": {},
          "output_type": "execute_result"
        }
      ],
      "source": [
        "df.certificate.unique()"
      ]
    },
    {
      "cell_type": "markdown",
      "metadata": {
        "id": "3_cpQvF4dr0N"
      },
      "source": [
        "#15+, 16, PG-13, 13, UA 16+, U/A-> UA\n",
        "#7, G, PG, M/PG, -> U\n",
        "#18, R, Not Rated, (Banned), Unrated, -> A"
      ]
    },
    {
      "cell_type": "code",
      "execution_count": null,
      "metadata": {
        "id": "DrTr9dt0dr0P"
      },
      "outputs": [],
      "source": [
        "df['certificate'] = df.certificate.replace(['15+', '16', 'PG-13', '13', 'UA 16+', 'U/A'],'UA')\n",
        "df['certificate'] = df.certificate.replace(['7', 'G', 'PG', 'M/PG'],'U')\n",
        "df['certificate'] = df.certificate.replace(['18', 'R', 'Not Rated', '(Banned)', 'Unrated'],'A')\n"
      ]
    },
    {
      "cell_type": "code",
      "execution_count": null,
      "metadata": {
        "id": "XKaqBA5Adr0P",
        "outputId": "e96e0d9a-98ab-4309-f628-71c081d70c98"
      },
      "outputs": [
        {
          "data": {
            "text/plain": [
              "array(['UA', 'A', 'U', None], dtype=object)"
            ]
          },
          "execution_count": 6,
          "metadata": {},
          "output_type": "execute_result"
        }
      ],
      "source": [
        "df.certificate.unique()"
      ]
    },
    {
      "cell_type": "code",
      "execution_count": null,
      "metadata": {
        "id": "0zXEvKw2dr0Q"
      },
      "outputs": [],
      "source": [
        "df['director'] =df['director'].apply(lambda x: ' '.join(x))"
      ]
    },
    {
      "cell_type": "code",
      "execution_count": null,
      "metadata": {
        "id": "7S-vwor8dr0R",
        "outputId": "dc52ea18-cdfa-411c-e119-dcd258e6cdd9"
      },
      "outputs": [
        {
          "data": {
            "text/html": [
              "<div>\n",
              "<style scoped>\n",
              "    .dataframe tbody tr th:only-of-type {\n",
              "        vertical-align: middle;\n",
              "    }\n",
              "\n",
              "    .dataframe tbody tr th {\n",
              "        vertical-align: top;\n",
              "    }\n",
              "\n",
              "    .dataframe thead th {\n",
              "        text-align: right;\n",
              "    }\n",
              "</style>\n",
              "<table border=\"1\" class=\"dataframe\">\n",
              "  <thead>\n",
              "    <tr style=\"text-align: right;\">\n",
              "      <th></th>\n",
              "      <th>0</th>\n",
              "      <th>1</th>\n",
              "      <th>2</th>\n",
              "      <th>3</th>\n",
              "    </tr>\n",
              "  </thead>\n",
              "  <tbody>\n",
              "    <tr>\n",
              "      <th>0</th>\n",
              "      <td>Jim Carrey</td>\n",
              "      <td>Kate Winslet</td>\n",
              "      <td>Tom Wilkinson</td>\n",
              "      <td>Gerry Robert Byrne</td>\n",
              "    </tr>\n",
              "    <tr>\n",
              "      <th>1</th>\n",
              "      <td>Al Pacino</td>\n",
              "      <td>Michelle Pfeiffer</td>\n",
              "      <td>Steven Bauer</td>\n",
              "      <td>Mary Elizabeth Mastrantonio</td>\n",
              "    </tr>\n",
              "    <tr>\n",
              "      <th>2</th>\n",
              "      <td>Harvey Keitel</td>\n",
              "      <td>Tim Roth</td>\n",
              "      <td>Michael Madsen</td>\n",
              "      <td>Chris Penn</td>\n",
              "    </tr>\n",
              "    <tr>\n",
              "      <th>3</th>\n",
              "      <td>Malcolm McDowell</td>\n",
              "      <td>Patrick Magee</td>\n",
              "      <td>Michael Bates</td>\n",
              "      <td>Warren Clarke</td>\n",
              "    </tr>\n",
              "    <tr>\n",
              "      <th>4</th>\n",
              "      <td>Keir Dullea</td>\n",
              "      <td>Gary Lockwood</td>\n",
              "      <td>William Sylvester</td>\n",
              "      <td>Daniel Richter</td>\n",
              "    </tr>\n",
              "    <tr>\n",
              "      <th>...</th>\n",
              "      <td>...</td>\n",
              "      <td>...</td>\n",
              "      <td>...</td>\n",
              "      <td>...</td>\n",
              "    </tr>\n",
              "    <tr>\n",
              "      <th>896</th>\n",
              "      <td>Pierre Brasseur</td>\n",
              "      <td>Alida Valli</td>\n",
              "      <td>Juliette Mayniel</td>\n",
              "      <td>Alexandre Rignault</td>\n",
              "    </tr>\n",
              "    <tr>\n",
              "      <th>897</th>\n",
              "      <td>Jack Lemmon</td>\n",
              "      <td>Walter Matthau</td>\n",
              "      <td>John Fiedler</td>\n",
              "      <td>Herb Edelman</td>\n",
              "    </tr>\n",
              "    <tr>\n",
              "      <th>898</th>\n",
              "      <td>Geoffrey Rush</td>\n",
              "      <td>Armin Mueller-Stahl</td>\n",
              "      <td>Justin Braine</td>\n",
              "      <td>Sonia Todd</td>\n",
              "    </tr>\n",
              "    <tr>\n",
              "      <th>899</th>\n",
              "      <td>Claude Rains</td>\n",
              "      <td>Gloria Stuart</td>\n",
              "      <td>William Harrigan</td>\n",
              "      <td>Henry Travers</td>\n",
              "    </tr>\n",
              "    <tr>\n",
              "      <th>900</th>\n",
              "      <td>Luis Tosar</td>\n",
              "      <td>Alberto Ammann</td>\n",
              "      <td>Antonio Resines</td>\n",
              "      <td>Manuel Morón</td>\n",
              "    </tr>\n",
              "  </tbody>\n",
              "</table>\n",
              "<p>901 rows × 4 columns</p>\n",
              "</div>"
            ],
            "text/plain": [
              "                    0                    1                  2  \\\n",
              "0          Jim Carrey         Kate Winslet      Tom Wilkinson   \n",
              "1           Al Pacino    Michelle Pfeiffer       Steven Bauer   \n",
              "2       Harvey Keitel             Tim Roth     Michael Madsen   \n",
              "3    Malcolm McDowell        Patrick Magee      Michael Bates   \n",
              "4         Keir Dullea        Gary Lockwood  William Sylvester   \n",
              "..                ...                  ...                ...   \n",
              "896   Pierre Brasseur          Alida Valli   Juliette Mayniel   \n",
              "897       Jack Lemmon       Walter Matthau       John Fiedler   \n",
              "898     Geoffrey Rush  Armin Mueller-Stahl      Justin Braine   \n",
              "899      Claude Rains        Gloria Stuart   William Harrigan   \n",
              "900        Luis Tosar       Alberto Ammann    Antonio Resines   \n",
              "\n",
              "                               3  \n",
              "0             Gerry Robert Byrne  \n",
              "1    Mary Elizabeth Mastrantonio  \n",
              "2                     Chris Penn  \n",
              "3                  Warren Clarke  \n",
              "4                 Daniel Richter  \n",
              "..                           ...  \n",
              "896           Alexandre Rignault  \n",
              "897                 Herb Edelman  \n",
              "898                   Sonia Todd  \n",
              "899                Henry Travers  \n",
              "900                 Manuel Morón  \n",
              "\n",
              "[901 rows x 4 columns]"
            ]
          },
          "execution_count": 8,
          "metadata": {},
          "output_type": "execute_result"
        }
      ],
      "source": [
        "df1 = df.stars.apply(pd.Series)\n",
        "df1"
      ]
    },
    {
      "cell_type": "code",
      "execution_count": null,
      "metadata": {
        "id": "d40dVeiwdr0S"
      },
      "outputs": [],
      "source": [
        "df['stars 1'] = df1[0]\n",
        "df['stars 2'] = df1[1]\n",
        "df['stars 3'] = df1[2]\n",
        "df['stars 4'] = df1[3]\n",
        "df = df.drop('stars',axis=1)"
      ]
    },
    {
      "cell_type": "code",
      "execution_count": null,
      "metadata": {
        "id": "khTlLnw2dr0T"
      },
      "outputs": [],
      "source": [
        "df = df.drop(['url'],axis=1)"
      ]
    },
    {
      "cell_type": "code",
      "execution_count": null,
      "metadata": {
        "id": "nvXf59Xxdr0T",
        "outputId": "7317cd17-c5df-4884-e960-aec0b1df04df"
      },
      "outputs": [
        {
          "data": {
            "text/html": [
              "<div>\n",
              "<style scoped>\n",
              "    .dataframe tbody tr th:only-of-type {\n",
              "        vertical-align: middle;\n",
              "    }\n",
              "\n",
              "    .dataframe tbody tr th {\n",
              "        vertical-align: top;\n",
              "    }\n",
              "\n",
              "    .dataframe thead th {\n",
              "        text-align: right;\n",
              "    }\n",
              "</style>\n",
              "<table border=\"1\" class=\"dataframe\">\n",
              "  <thead>\n",
              "    <tr style=\"text-align: right;\">\n",
              "      <th></th>\n",
              "      <th>title</th>\n",
              "      <th>director</th>\n",
              "      <th>certificate</th>\n",
              "      <th>runtime</th>\n",
              "      <th>genre</th>\n",
              "      <th>imdb_rating</th>\n",
              "      <th>metascore</th>\n",
              "      <th>Year</th>\n",
              "      <th>votes</th>\n",
              "      <th>gross</th>\n",
              "      <th>stars 1</th>\n",
              "      <th>stars 2</th>\n",
              "      <th>stars 3</th>\n",
              "      <th>stars 4</th>\n",
              "    </tr>\n",
              "  </thead>\n",
              "  <tbody>\n",
              "    <tr>\n",
              "      <th>0</th>\n",
              "      <td>Eternal Sunshine of the Spotless Mind</td>\n",
              "      <td>Michel Gondry</td>\n",
              "      <td>UA</td>\n",
              "      <td>108 min</td>\n",
              "      <td>Drama, Romance, Sci-Fi</td>\n",
              "      <td>8.3</td>\n",
              "      <td>89</td>\n",
              "      <td>(2004)</td>\n",
              "      <td>1019399</td>\n",
              "      <td>$34.40M</td>\n",
              "      <td>Jim Carrey</td>\n",
              "      <td>Kate Winslet</td>\n",
              "      <td>Tom Wilkinson</td>\n",
              "      <td>Gerry Robert Byrne</td>\n",
              "    </tr>\n",
              "    <tr>\n",
              "      <th>1</th>\n",
              "      <td>Scarface</td>\n",
              "      <td>Brian De Palma</td>\n",
              "      <td>A</td>\n",
              "      <td>170 min</td>\n",
              "      <td>Crime, Drama</td>\n",
              "      <td>8.3</td>\n",
              "      <td>65</td>\n",
              "      <td>(1983)</td>\n",
              "      <td>853108</td>\n",
              "      <td>$45.60M</td>\n",
              "      <td>Al Pacino</td>\n",
              "      <td>Michelle Pfeiffer</td>\n",
              "      <td>Steven Bauer</td>\n",
              "      <td>Mary Elizabeth Mastrantonio</td>\n",
              "    </tr>\n",
              "    <tr>\n",
              "      <th>2</th>\n",
              "      <td>Reservoir Dogs</td>\n",
              "      <td>Quentin Tarantino</td>\n",
              "      <td>UA</td>\n",
              "      <td>99 min</td>\n",
              "      <td>Crime, Thriller</td>\n",
              "      <td>8.3</td>\n",
              "      <td>79</td>\n",
              "      <td>(1992)</td>\n",
              "      <td>1030252</td>\n",
              "      <td>$2.83M</td>\n",
              "      <td>Harvey Keitel</td>\n",
              "      <td>Tim Roth</td>\n",
              "      <td>Michael Madsen</td>\n",
              "      <td>Chris Penn</td>\n",
              "    </tr>\n",
              "    <tr>\n",
              "      <th>3</th>\n",
              "      <td>A Clockwork Orange</td>\n",
              "      <td>Stanley Kubrick</td>\n",
              "      <td>A</td>\n",
              "      <td>136 min</td>\n",
              "      <td>Crime, Sci-Fi</td>\n",
              "      <td>8.3</td>\n",
              "      <td>77</td>\n",
              "      <td>(1971)</td>\n",
              "      <td>838644</td>\n",
              "      <td>$6.21M</td>\n",
              "      <td>Malcolm McDowell</td>\n",
              "      <td>Patrick Magee</td>\n",
              "      <td>Michael Bates</td>\n",
              "      <td>Warren Clarke</td>\n",
              "    </tr>\n",
              "    <tr>\n",
              "      <th>4</th>\n",
              "      <td>2001: A Space Odyssey</td>\n",
              "      <td>Stanley Kubrick</td>\n",
              "      <td>U</td>\n",
              "      <td>149 min</td>\n",
              "      <td>Adventure, Sci-Fi</td>\n",
              "      <td>8.3</td>\n",
              "      <td>84</td>\n",
              "      <td>(1968)</td>\n",
              "      <td>676754</td>\n",
              "      <td>$56.95M</td>\n",
              "      <td>Keir Dullea</td>\n",
              "      <td>Gary Lockwood</td>\n",
              "      <td>William Sylvester</td>\n",
              "      <td>Daniel Richter</td>\n",
              "    </tr>\n",
              "  </tbody>\n",
              "</table>\n",
              "</div>"
            ],
            "text/plain": [
              "                                   title           director certificate  \\\n",
              "0  Eternal Sunshine of the Spotless Mind      Michel Gondry          UA   \n",
              "1                               Scarface     Brian De Palma           A   \n",
              "2                         Reservoir Dogs  Quentin Tarantino          UA   \n",
              "3                     A Clockwork Orange    Stanley Kubrick           A   \n",
              "4                  2001: A Space Odyssey    Stanley Kubrick           U   \n",
              "\n",
              "   runtime                   genre imdb_rating metascore    Year    votes  \\\n",
              "0  108 min  Drama, Romance, Sci-Fi         8.3        89  (2004)  1019399   \n",
              "1  170 min            Crime, Drama         8.3        65  (1983)   853108   \n",
              "2   99 min         Crime, Thriller         8.3        79  (1992)  1030252   \n",
              "3  136 min           Crime, Sci-Fi         8.3        77  (1971)   838644   \n",
              "4  149 min       Adventure, Sci-Fi         8.3        84  (1968)   676754   \n",
              "\n",
              "     gross           stars 1            stars 2            stars 3  \\\n",
              "0  $34.40M        Jim Carrey       Kate Winslet      Tom Wilkinson   \n",
              "1  $45.60M         Al Pacino  Michelle Pfeiffer       Steven Bauer   \n",
              "2   $2.83M     Harvey Keitel           Tim Roth     Michael Madsen   \n",
              "3   $6.21M  Malcolm McDowell      Patrick Magee      Michael Bates   \n",
              "4  $56.95M       Keir Dullea      Gary Lockwood  William Sylvester   \n",
              "\n",
              "                       stars 4  \n",
              "0           Gerry Robert Byrne  \n",
              "1  Mary Elizabeth Mastrantonio  \n",
              "2                   Chris Penn  \n",
              "3                Warren Clarke  \n",
              "4               Daniel Richter  "
            ]
          },
          "execution_count": 11,
          "metadata": {},
          "output_type": "execute_result"
        }
      ],
      "source": [
        "df.head()"
      ]
    },
    {
      "cell_type": "code",
      "execution_count": null,
      "metadata": {
        "id": "yv2CnbOndr0U",
        "outputId": "d0c10d40-5afb-4a77-ba15-c721e60a9ca5"
      },
      "outputs": [
        {
          "name": "stdout",
          "output_type": "stream",
          "text": [
            "['34.40', '45.60', '2.83', '6.21', '56.95', '0.69', '46.36', '191.80', '309.13', '293.00', '159.60', '5.32', '44.82', '33.23', '6.86', '415.00', '', '', '13', '1.59', '3.20', '8.82', '1.24', '11', '13.28', '18.60', '7.10', '0.03', '0.06', '5.72', '1.22', '', '12.39', '0.33', '', '6.60', '5.45', '0.54', '0.90', '', '', '804.75', '116.90', '128.01', '402.45', '28.26', '74.28', '85.08', '159.23', '293.51', '125.62', '206.85', '30.33', '13', '40.22', '70.10', '42.44', '83.01', '197.17', '4.71', '13.78', '356.46', '170.74', '37.63', '198.68', '380.84', '3.90', '13.66', '70.51', '64.62', '5.51', '101.16', '8.49', '25.00', '1.23', '6.39', '15', '23.38', '12.10', '47.70', '4.14', '44.91', '20.19', '', '', '15.00', '', '17', '0.01', '0.74', '0.10', '0.01', '5.01', '1.37', '14', '20', '', '0.93', '0.08', '1.22', '19', '0.02', '3.11', '22', '24', '', '23', '0.98', '4.19', '1.63', '0.07', '0.04', '381.01', '169.71', '61.00', '117.24', '167.77', '164.62', '59.10', '154.06', '54.51', '67.21', '52.29', '305.41', '32.87', '117.62', '38.40', '3.27', '17.50', '2.01', '206.45', '260.00', '16.50', '232.91', '2.08', '95.86', '5.54', '24.61', '226.28', '289.92', '18.35', '14.68', '45.06', '56.67', '217.58', '70.91', '163.21', '48.98', '0.01', '138.53', '3.76', '2.73', '26.95', '23', '74.70', '0.54', '100.49', '5.82', '19', '1.11', '148.10', '3.11', '0.23', '0.31', '20', '2.18', '23.16', '', '16.22', '', '21', '0.06', '5.38', '25.01', '9.60', '23.53', '0.45', '24', '4.36', '19', '4.36', '30.93', '23.65', '', '4.04', '10.62', '24', '', '', '1.65', '4.97', '8.18', '13.34', '18', '10.90', '', '0.06', '0.17', '1.14', '9.60', '5.22', '0.07', '0.10', '', '1.03', '0.17', '1.11', '', '', '5.45', '', '1.09', '', '2.60', '0.30', '', '0.28', '0.75', '2.20', '2.80', '3.97', '1.53', '1.43', '', '', '1.24', '', '4.94', '0.14', '0.34', '0.06', '0.17', '', '', '', '0.73', '0.92', '', '1.04', '0.01', '', '', '72.86', '108.33', '92.05', '106.95', '30.86', '151.10', '333.18', '', '', '63.90', '25.57', '623.28', '363.07', '184.21', '1.48', '341.27', '167.45', '183.64', '261.44', '91.13', '74.10', '228.43', '57.14', '50.00', '66.26', '163.57', '27.55', '51.74', '141.32', '178.80', '22.46', '218.97', '', '138.80', '217.35', '70.41', '104.95', '', '', '57.37', '86.30', '', '102.31', '66.21', '33.40', '0.78', '1.53', '0.55', '227.47', '29.13', '', '24.48', '0.60', '20.05', '30.18', '6.74', '80.50', '', '', '53.27', '39.20', '52.77', '19.52', '3.33', '3.49', '4.05', '22.24', '0.05', '9.45', '61.65', '0.50', '', '12.54', '', '2.11', '', '0.65', '0.18', '', '0.17', '8.28', '0.01', '', '13.42', '6.20', '', '2.24', '0.26', '11.90', '1.51', '5.99', '', '0.86', '', '', '', '0.04', '2.09', '0.35', '', '4.08', '0.68', '0.01', '4.45', '', '1.74', '0.90', '4.54', '2.38', '', '', '1.50', '0.10', '', '0.20', '5.60', '', '', '', '', '1.11', '', '1.08', '', '', '', '2.22', '', '168.46', '659.33', '760.51', '165.36', '14.50', '249.36', '100.21', '100.55', '7.76', '32.53', '318.41', '24.38', '33.37', '128.08', '26.40', '7.22', '267.67', '12.28', '315.06', '257.73', '17.74', '435.11', '35.55', '216.43', '90.14', '21.00', '121.66', '2.00', '115.65', '132.42', '27.30', '12.06', '25.38', '26.24', '124.99', '56.36', '57.23', '233.92', '13.54', '9.93', '245.85', '4.74', '111.72', '3.98', '8.11', '8.00', '93.74', '36.95', '17.57', '', '75.08', '30.00', '2.12', '4.50', '44.67', '70.60', '', '', '0.52', '14.50', '13.47', '53.71', '', '6.54', '3.31', '3.24', '2.63', '', '', '1.32', '20.61', '4.18', '13.76', '10.46', '10.00', '', '1.01', '6.74', '', '', '61.70', '7.63', '2.20', '4.02', '22.28', '', '9.28', '1.79', '0.41', '1.53', '0.54', '', '', '', '', '', '0.24', '', '0.30', '4.36', '0.58', '0.09', '', '', '1.22', '0.10', '0.05', '0.37', '1.19', '0.11', '5.57', '', '0.11', '2.65', '1.06', '9.46', '', '', '0.50', '0.30', '0.01', '', '1.78', '', '2.27', '1.66', '', '', '', '', '659.68', '', '369.35', '36.47', '169.61', '108.10', '38.41', '81.00', '15.32', '35.06', '45.88', '7.00', '56.51', '18.10', '532.18', '188.37', '303.00', '50.93', '70.26', '238.63', '408.08', '127.51', '50.87', '96.96', '936.66', '', '54.12', '70.14', '54.58', '233.63', '32.38', '', '4.00', '59.74', '59.89', '259.77', '145.00', '130.16', '102.52', '102.27', '23.64', '258.37', '47.70', '115.65', '0.13', '26.83', '304.36', '118.50', '183.88', '119.52', '57.50', '5.88', '22.95', '0.63', '76.27', '45.51', '161.20', '111.11', '32.42', '61.28', '93.62', '0.00', '222.53', '12.34', '52.10', '5.01', '44.79', '2.50', '17.27', '0.06', '40.44', '25.51', '22.86', '107.10', '177.00', '34.70', '2.28', '32.48', '32.02', '5.20', '72.00', '4.42', '0.09', '10.10', '', '0.09', '42.77', '28.97', '5.10', '4.04', '31.80', '35.74', '34.60', '21.50', '5.13', '5.89', '', '0.55', '37.82', '106.26', '4.41', '56.70', '', '9.44', '', '', '14.74', '', '0.18', '6.74', '', '', '', '', '', '', '8.26', '', '5.62', '45.70', '', '0.44', '16.06', '2.22', '21.85', '0.30', '', '40.08', '0.20', '2.92', '1.00', '2.08', '', '', '0.26', '', '4.23', '0.28', '0.03', '', '3.64', '4.66', '4.36', '0.13', '', '', '2.62', '0.19', '18.25', '', '0.14', '0.00', '', '1.67', '2.54', '0.17', '', '290.01', '176.04', '42.34', '295.98', '220.16', '61.50', '324.59', '33.80', '141.34', '25.44', '83.40', '56.12', '274.09', '33.08', '128.26', '277.32', '76.63', '83.04', '2.20', '104.45', '108.64', '285.76', '200.82', '32.39', '48.32', '43.18', '183.42', '13.62', '75.51', '8.55', '44.59', '22.24', '77.91', '7.06', '136.03', '45.51', '', '51.08', '132.09', '9.17', '173.84', '3.36', '257.76', '1.08', '54.23', '434.04', '56.82', '146.41', '4.91', '92.82', '47.21', '119.50', '98.47', '228.78', '148.48', '124.87', '75.29', '52.04', '', '47.00', '53.61', '189.42', '156.45', '176.24', '9.03', '', '77.32', '48.17', '22.49', '10.73', '0.03', '35.89', '1.75', '41.91', '0.07', '1.77', '', '82.42', '29.80', '4.06', '43.98', '22.25', '15.63', '3.15', '5.92', '', '78.91', '54.00', '7.15', '2.85', '22.00', '35.90', '45.30', '0.33', '54.80', '17.11', '10.55', '5.21', '2.81', '75.33', '', '0.03', '5.08', '0.01', '', '0.88', '', '39.10', '0.08', '6.11', '7.27', '0.19', '4.40', '0.34', '6.74', '48.02', '76.41', '51.68', '2.89', '0.37', '0.54', '0.19', '', '2.00', '17.65', '', '', '0.77', '', '1.34', '16.78', '', '2.02', '17.55', '', '', '0.14', '28.35', '2.40', '', '15.54', '1.44', '1.96', '0.18', '18.59', '', '3.03', '7.00', '0.02', '0.31', '0.31', '', '', '4.89', '21.75', '0.00', '0.41', '', '1.05', '1.33', '10.63', '0.29', '', '0.23', '11.80', '27.28', '0.74', '', '317.58', '142.50', '', '15.07', '121.46', '46.89', '88.51', '38.63', '63.54', '107.51', '10.82', '389.81', '210.61', '215.29', '57.94', '', '26.86', '132.07', '215.43', '255.96', '26.02', '65.21', '48.07', '53.42', '36.40', '52.93', '56.00', '75.61', '380.26', '20.30', '171.24', '251.51', '40.46', '', '3.33', '120.62', '52.36', '41.00', '96.52', '17.11', '3.19', '40.31', '11.40', '14.38', '12.47', '100.01', '141.84', '208.55', '10.60', '4.11', '78.76', '17.11', '69.95', '15.09', '16.29', '23.09', '184.93', '35.01', '', '25.00', '', '17.61', '30.50', '6.15', '71.52', '2.49', '13.06', '31.57', '6.17', '37.71', '0.87', '0.05', '44.53', '35.81', '', '']\n"
          ]
        }
      ],
      "source": [
        "def run(col):\n",
        "    temp=[]\n",
        "    for i in col:\n",
        "        i = i[1:len(i)-1]\n",
        "        temp.append(i)\n",
        "    return temp\n",
        "temp =run(df.gross)\n",
        "print(temp)\n"
      ]
    },
    {
      "cell_type": "code",
      "execution_count": null,
      "metadata": {
        "id": "F6pG7cRvdr0V"
      },
      "outputs": [],
      "source": [
        "df = df.drop(['runtime'],axis=1)"
      ]
    },
    {
      "cell_type": "code",
      "execution_count": null,
      "metadata": {
        "id": "CwQcTuqrdr0V"
      },
      "outputs": [],
      "source": [
        "df['gross']=temp"
      ]
    },
    {
      "cell_type": "code",
      "execution_count": null,
      "metadata": {
        "id": "skvbWdlJdr0W"
      },
      "outputs": [],
      "source": [
        "def string(col):\n",
        "    list1=[]\n",
        "    for i in col:\n",
        "        i = i[1:5]\n",
        "        list1.append(i)\n",
        "    return list1\n",
        "temp1 = string(df.Year)"
      ]
    },
    {
      "cell_type": "code",
      "execution_count": null,
      "metadata": {
        "id": "VpWy6tVWdr0W"
      },
      "outputs": [],
      "source": [
        "df = df.drop(['Year'],axis=1)"
      ]
    },
    {
      "cell_type": "code",
      "execution_count": null,
      "metadata": {
        "id": "6x7OdC0_dr0W"
      },
      "outputs": [],
      "source": [
        "df['Year'] = temp1"
      ]
    },
    {
      "cell_type": "code",
      "execution_count": null,
      "metadata": {
        "id": "ott26SnAdr0X",
        "outputId": "23006231-027f-4d93-d503-b2629df9e9b1"
      },
      "outputs": [
        {
          "data": {
            "text/html": [
              "<div>\n",
              "<style scoped>\n",
              "    .dataframe tbody tr th:only-of-type {\n",
              "        vertical-align: middle;\n",
              "    }\n",
              "\n",
              "    .dataframe tbody tr th {\n",
              "        vertical-align: top;\n",
              "    }\n",
              "\n",
              "    .dataframe thead th {\n",
              "        text-align: right;\n",
              "    }\n",
              "</style>\n",
              "<table border=\"1\" class=\"dataframe\">\n",
              "  <thead>\n",
              "    <tr style=\"text-align: right;\">\n",
              "      <th></th>\n",
              "      <th>title</th>\n",
              "      <th>director</th>\n",
              "      <th>certificate</th>\n",
              "      <th>genre</th>\n",
              "      <th>imdb_rating</th>\n",
              "      <th>metascore</th>\n",
              "      <th>votes</th>\n",
              "      <th>stars 1</th>\n",
              "      <th>stars 2</th>\n",
              "      <th>stars 3</th>\n",
              "      <th>stars 4</th>\n",
              "      <th>gross</th>\n",
              "      <th>Year</th>\n",
              "    </tr>\n",
              "  </thead>\n",
              "  <tbody>\n",
              "    <tr>\n",
              "      <th>0</th>\n",
              "      <td>Eternal Sunshine of the Spotless Mind</td>\n",
              "      <td>Michel Gondry</td>\n",
              "      <td>UA</td>\n",
              "      <td>Drama, Romance, Sci-Fi</td>\n",
              "      <td>8.3</td>\n",
              "      <td>89</td>\n",
              "      <td>1019399</td>\n",
              "      <td>Jim Carrey</td>\n",
              "      <td>Kate Winslet</td>\n",
              "      <td>Tom Wilkinson</td>\n",
              "      <td>Gerry Robert Byrne</td>\n",
              "      <td>34.40</td>\n",
              "      <td>2004</td>\n",
              "    </tr>\n",
              "    <tr>\n",
              "      <th>1</th>\n",
              "      <td>Scarface</td>\n",
              "      <td>Brian De Palma</td>\n",
              "      <td>A</td>\n",
              "      <td>Crime, Drama</td>\n",
              "      <td>8.3</td>\n",
              "      <td>65</td>\n",
              "      <td>853108</td>\n",
              "      <td>Al Pacino</td>\n",
              "      <td>Michelle Pfeiffer</td>\n",
              "      <td>Steven Bauer</td>\n",
              "      <td>Mary Elizabeth Mastrantonio</td>\n",
              "      <td>45.60</td>\n",
              "      <td>1983</td>\n",
              "    </tr>\n",
              "    <tr>\n",
              "      <th>2</th>\n",
              "      <td>Reservoir Dogs</td>\n",
              "      <td>Quentin Tarantino</td>\n",
              "      <td>UA</td>\n",
              "      <td>Crime, Thriller</td>\n",
              "      <td>8.3</td>\n",
              "      <td>79</td>\n",
              "      <td>1030252</td>\n",
              "      <td>Harvey Keitel</td>\n",
              "      <td>Tim Roth</td>\n",
              "      <td>Michael Madsen</td>\n",
              "      <td>Chris Penn</td>\n",
              "      <td>2.83</td>\n",
              "      <td>1992</td>\n",
              "    </tr>\n",
              "    <tr>\n",
              "      <th>3</th>\n",
              "      <td>A Clockwork Orange</td>\n",
              "      <td>Stanley Kubrick</td>\n",
              "      <td>A</td>\n",
              "      <td>Crime, Sci-Fi</td>\n",
              "      <td>8.3</td>\n",
              "      <td>77</td>\n",
              "      <td>838644</td>\n",
              "      <td>Malcolm McDowell</td>\n",
              "      <td>Patrick Magee</td>\n",
              "      <td>Michael Bates</td>\n",
              "      <td>Warren Clarke</td>\n",
              "      <td>6.21</td>\n",
              "      <td>1971</td>\n",
              "    </tr>\n",
              "    <tr>\n",
              "      <th>4</th>\n",
              "      <td>2001: A Space Odyssey</td>\n",
              "      <td>Stanley Kubrick</td>\n",
              "      <td>U</td>\n",
              "      <td>Adventure, Sci-Fi</td>\n",
              "      <td>8.3</td>\n",
              "      <td>84</td>\n",
              "      <td>676754</td>\n",
              "      <td>Keir Dullea</td>\n",
              "      <td>Gary Lockwood</td>\n",
              "      <td>William Sylvester</td>\n",
              "      <td>Daniel Richter</td>\n",
              "      <td>56.95</td>\n",
              "      <td>1968</td>\n",
              "    </tr>\n",
              "  </tbody>\n",
              "</table>\n",
              "</div>"
            ],
            "text/plain": [
              "                                   title           director certificate  \\\n",
              "0  Eternal Sunshine of the Spotless Mind      Michel Gondry          UA   \n",
              "1                               Scarface     Brian De Palma           A   \n",
              "2                         Reservoir Dogs  Quentin Tarantino          UA   \n",
              "3                     A Clockwork Orange    Stanley Kubrick           A   \n",
              "4                  2001: A Space Odyssey    Stanley Kubrick           U   \n",
              "\n",
              "                    genre imdb_rating metascore    votes           stars 1  \\\n",
              "0  Drama, Romance, Sci-Fi         8.3        89  1019399        Jim Carrey   \n",
              "1            Crime, Drama         8.3        65   853108         Al Pacino   \n",
              "2         Crime, Thriller         8.3        79  1030252     Harvey Keitel   \n",
              "3           Crime, Sci-Fi         8.3        77   838644  Malcolm McDowell   \n",
              "4       Adventure, Sci-Fi         8.3        84   676754       Keir Dullea   \n",
              "\n",
              "             stars 2            stars 3                      stars 4  gross  \\\n",
              "0       Kate Winslet      Tom Wilkinson           Gerry Robert Byrne  34.40   \n",
              "1  Michelle Pfeiffer       Steven Bauer  Mary Elizabeth Mastrantonio  45.60   \n",
              "2           Tim Roth     Michael Madsen                   Chris Penn   2.83   \n",
              "3      Patrick Magee      Michael Bates                Warren Clarke   6.21   \n",
              "4      Gary Lockwood  William Sylvester               Daniel Richter  56.95   \n",
              "\n",
              "   Year  \n",
              "0  2004  \n",
              "1  1983  \n",
              "2  1992  \n",
              "3  1971  \n",
              "4  1968  "
            ]
          },
          "execution_count": 20,
          "metadata": {},
          "output_type": "execute_result"
        }
      ],
      "source": [
        "df.head()"
      ]
    },
    {
      "cell_type": "code",
      "execution_count": null,
      "metadata": {
        "id": "EMry4rYDdr0Y"
      },
      "outputs": [],
      "source": [
        "data = pd.read_csv('imbd1.csv')"
      ]
    },
    {
      "cell_type": "code",
      "execution_count": null,
      "metadata": {
        "id": "ujTO9ChFdr0Z"
      },
      "outputs": [],
      "source": [
        "data['Year']=data.Year.astype(int)"
      ]
    },
    {
      "cell_type": "code",
      "execution_count": null,
      "metadata": {
        "id": "OhUqj4URdr0Z",
        "outputId": "4c8fd164-78f0-43f3-a713-f4a322b7da34"
      },
      "outputs": [
        {
          "data": {
            "text/plain": [
              "title           object\n",
              "director        object\n",
              "certificate     object\n",
              "genre           object\n",
              "imdb_rating    float64\n",
              "metascore        int64\n",
              "votes            int64\n",
              "stars 1         object\n",
              "stars 2         object\n",
              "stars 3         object\n",
              "stars 4         object\n",
              "runtime        float64\n",
              "Year             int64\n",
              "dtype: object"
            ]
          },
          "execution_count": 48,
          "metadata": {},
          "output_type": "execute_result"
        }
      ],
      "source": [
        "data.dtypes"
      ]
    },
    {
      "cell_type": "code",
      "execution_count": null,
      "metadata": {
        "id": "nBM81Yh-dr0a"
      },
      "outputs": [],
      "source": [
        "from sklearn.preprocessing import LabelEncoder\n",
        "\n",
        "column_to_encode = 'genre'\n",
        "\n",
        "encoder=LabelEncoder()\n",
        "\n",
        "encoder.fit(data[column_to_encode])\n",
        "\n",
        "data[column_to_encode] = encoder.transform(data[column_to_encode])"
      ]
    },
    {
      "cell_type": "code",
      "execution_count": null,
      "metadata": {
        "id": "q-Khvv8tdr0a",
        "outputId": "522b1144-05e6-4047-e727-0f2085673cb0"
      },
      "outputs": [
        {
          "data": {
            "text/plain": [
              "0       36\n",
              "1      157\n",
              "2      184\n",
              "3      111\n",
              "4      165\n",
              "      ... \n",
              "896    181\n",
              "897    129\n",
              "898    166\n",
              "899    129\n",
              "900      3\n",
              "Name: genre, Length: 901, dtype: int32"
            ]
          },
          "execution_count": 52,
          "metadata": {},
          "output_type": "execute_result"
        }
      ],
      "source": [
        "data['genre']"
      ]
    }
  ],
  "metadata": {
    "kernelspec": {
      "display_name": "env",
      "language": "python",
      "name": "python3"
    },
    "language_info": {
      "codemirror_mode": {
        "name": "ipython",
        "version": 3
      },
      "file_extension": ".py",
      "mimetype": "text/x-python",
      "name": "python",
      "nbconvert_exporter": "python",
      "pygments_lexer": "ipython3",
      "version": "3.11.2"
    },
    "orig_nbformat": 4,
    "vscode": {
      "interpreter": {
        "hash": "525dad7513f64222364392065bbb7b2aca42af8daf6f97df157046aa3e2c78cb"
      }
    },
    "colab": {
      "provenance": [],
      "include_colab_link": true
    }
  },
  "nbformat": 4,
  "nbformat_minor": 0
}